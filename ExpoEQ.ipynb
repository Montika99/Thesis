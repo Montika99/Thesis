{
 "cells": [
  {
   "cell_type": "code",
   "execution_count": 1,
   "metadata": {},
   "outputs": [],
   "source": [
    "from sympy.interactive import printing\n",
    "printing.init_printing(use_latex=True)\n",
    "import sympy as sp\n",
    "from sympy import *\n",
    "from sympy import symbols, solve\n",
    "from sympy import symbols, Eq, Function\n",
    "from sympy.solvers.ode.systems import dsolve_system"
   ]
  },
  {
   "cell_type": "code",
   "execution_count": 2,
   "metadata": {},
   "outputs": [],
   "source": [
    "a, b, v, m, theta, T, t, p, h, s, K = symbols('a b v m theta T t P h s K')"
   ]
  },
  {
   "cell_type": "markdown",
   "metadata": {},
   "source": [
    "ODEs"
   ]
  },
  {
   "cell_type": "code",
   "execution_count": 3,
   "metadata": {},
   "outputs": [
    {
     "data": {
      "image/png": "[encoded data removed]",
      "text/latex": [
       "$\\displaystyle \\frac{a \\left(- e^{t \\left(b + \\theta\\right)} + e^{v \\left(b + \\theta\\right)}\\right) e^{- t \\theta}}{b + \\theta}$"
      ],
      "text/plain": [
       "  ⎛   t⋅(b + θ)    v⋅(b + θ)⎞  -t⋅θ\n",
       "a⋅⎝- ℯ          + ℯ         ⎠⋅ℯ    \n",
       "───────────────────────────────────\n",
       "               b + θ               "
      ]
     },
     "metadata": {},
     "output_type": "display_data"
    },
    {
     "data": {
      "image/png": "[encoded data removed]",
      "text/latex": [
       "$\\displaystyle - \\frac{a \\left(e^{t \\left(b + \\theta\\right)} - e^{v \\left(b + \\theta\\right)}\\right) e^{- t \\theta}}{b + \\theta}$"
      ],
      "text/plain": [
       "   ⎛ t⋅(b + θ)    v⋅(b + θ)⎞  -t⋅θ \n",
       "-a⋅⎝ℯ          - ℯ         ⎠⋅ℯ     \n",
       "───────────────────────────────────\n",
       "               b + θ               "
      ]
     },
     "metadata": {},
     "output_type": "display_data"
    }
   ],
   "source": [
    "I1_t = (a*exp(-t*theta)*(exp(v*(b+theta))-exp(t*(b+theta))))/(b+theta)\n",
    "simI1_t = simplify(I1_t)\n",
    "display(I1_t)\n",
    "display(simI1_t)"
   ]
  },
  {
   "cell_type": "code",
   "execution_count": 4,
   "metadata": {},
   "outputs": [
    {
     "data": {
      "image/png": "[encoded data removed]",
      "text/latex": [
       "$\\displaystyle a \\left(- t + v\\right)$"
      ],
      "text/plain": [
       "a⋅(-t + v)"
      ]
     },
     "metadata": {},
     "output_type": "display_data"
    }
   ],
   "source": [
    "I2_t = a*(v-t)\n",
    "display(I2_t)"
   ]
  },
  {
   "cell_type": "markdown",
   "metadata": {},
   "source": [
    "- Ordering cost"
   ]
  },
  {
   "cell_type": "code",
   "execution_count": 5,
   "metadata": {},
   "outputs": [],
   "source": [
    "RC = K"
   ]
  },
  {
   "cell_type": "markdown",
   "metadata": {},
   "source": [
    "- Holding cost"
   ]
  },
  {
   "cell_type": "code",
   "execution_count": 6,
   "metadata": {},
   "outputs": [
    {
     "data": {
      "image/png": "[encoded data removed]",
      "text/latex": [
       "$\\displaystyle \\frac{a \\left(- \\frac{e^{b v}}{\\theta} - \\frac{e^{b v}}{b}\\right)}{b + \\theta} - \\frac{a \\left(- \\frac{e^{b v} e^{\\theta v}}{\\theta} - \\frac{1}{b}\\right)}{b + \\theta}$"
      ],
      "text/plain": [
       "  ⎛   b⋅v    b⋅v⎞     ⎛   b⋅v  θ⋅v    ⎞\n",
       "  ⎜  ℯ      ℯ   ⎟     ⎜  ℯ   ⋅ℯ      1⎟\n",
       "a⋅⎜- ──── - ────⎟   a⋅⎜- ───────── - ─⎟\n",
       "  ⎝   θ      b  ⎠     ⎝      θ       b⎠\n",
       "───────────────── - ───────────────────\n",
       "      b + θ                b + θ       "
      ]
     },
     "metadata": {},
     "output_type": "display_data"
    }
   ],
   "source": [
    "#intI1 = integrate(I1_t, (t,0,v))\n",
    "#display(intI1)\n",
    "#print(intI1)\n",
    "intI1 = a*(-exp(b*v)/theta - exp(b*v)/b)/(b + theta) - a*(-exp(b*v)*exp(theta*v)/theta - 1/b)/(b + theta)\n",
    "display(intI1)"
   ]
  },
  {
   "cell_type": "code",
   "execution_count": 7,
   "metadata": {},
   "outputs": [
    {
     "data": {
      "image/png": "[encoded data removed]",
      "text/latex": [
       "$\\displaystyle h \\left(\\frac{a \\left(- \\frac{e^{b v}}{\\theta} - \\frac{e^{b v}}{b}\\right)}{b + \\theta} - \\frac{a \\left(- \\frac{e^{b v} e^{\\theta v}}{\\theta} - \\frac{1}{b}\\right)}{b + \\theta}\\right)$"
      ],
      "text/plain": [
       "  ⎛  ⎛   b⋅v    b⋅v⎞     ⎛   b⋅v  θ⋅v    ⎞⎞\n",
       "  ⎜  ⎜  ℯ      ℯ   ⎟     ⎜  ℯ   ⋅ℯ      1⎟⎟\n",
       "  ⎜a⋅⎜- ──── - ────⎟   a⋅⎜- ───────── - ─⎟⎟\n",
       "  ⎜  ⎝   θ      b  ⎠     ⎝      θ       b⎠⎟\n",
       "h⋅⎜───────────────── - ───────────────────⎟\n",
       "  ⎝      b + θ                b + θ       ⎠"
      ]
     },
     "metadata": {},
     "output_type": "display_data"
    }
   ],
   "source": [
    "HC = h*intI1\n",
    "display(HC)"
   ]
  },
  {
   "cell_type": "markdown",
   "metadata": {},
   "source": [
    "- shortage cost"
   ]
  },
  {
   "cell_type": "code",
   "execution_count": 8,
   "metadata": {},
   "outputs": [
    {
     "name": "stdout",
     "output_type": "stream",
     "text": [
      "-T**2*a/2 + T*a*v - a*v**2/2\n"
     ]
    },
    {
     "data": {
      "image/png": "[encoded data removed]",
      "text/latex": [
       "$\\displaystyle s \\left(- \\frac{T^{2} a}{2} + T a v - \\frac{a v^{2}}{2}\\right)$"
      ],
      "text/plain": [
       "  ⎛   2                2⎞\n",
       "  ⎜  T ⋅a           a⋅v ⎟\n",
       "s⋅⎜- ──── + T⋅a⋅v - ────⎟\n",
       "  ⎝   2              2  ⎠"
      ]
     },
     "metadata": {},
     "output_type": "display_data"
    },
    {
     "data": {
      "image/png": "[encoded data removed]",
      "text/latex": [
       "$\\displaystyle \\frac{a s \\left(- T^{2} + 2 T v - v^{2}\\right)}{2}$"
      ],
      "text/plain": [
       "    ⎛   2            2⎞\n",
       "a⋅s⋅⎝- T  + 2⋅T⋅v - v ⎠\n",
       "───────────────────────\n",
       "           2           "
      ]
     },
     "metadata": {},
     "output_type": "display_data"
    }
   ],
   "source": [
    "intI2 = integrate(I2_t, (t,v,T))\n",
    "print(intI2)\n",
    "SC = s*intI2\n",
    "display(SC)\n",
    "simsc = simplify(SC)\n",
    "display(simsc)"
   ]
  },
  {
   "cell_type": "markdown",
   "metadata": {},
   "source": [
    "- Deterioration cost"
   ]
  },
  {
   "cell_type": "code",
   "execution_count": 9,
   "metadata": {},
   "outputs": [
    {
     "name": "stdout",
     "output_type": "stream",
     "text": [
      "Piecewise((a*exp(b*v)/b - a/b, (b > -oo) & (b < oo) & Ne(b, 0)), (a*v, True))\n"
     ]
    },
    {
     "data": {
      "image/png": "[encoded data removed]",
      "text/latex": [
       "$\\displaystyle \\begin{cases} \\frac{a e^{b v}}{b} - \\frac{a}{b} & \\text{for}\\: b > -\\infty \\wedge b < \\infty \\wedge b \\neq 0 \\\\a v & \\text{otherwise} \\end{cases}$"
      ],
      "text/plain": [
       "⎧   b⋅v                                \n",
       "⎪a⋅ℯ      a                            \n",
       "⎪────── - ─  for b > -∞ ∧ b < ∞ ∧ b ≠ 0\n",
       "⎨  b      b                            \n",
       "⎪                                      \n",
       "⎪   a⋅v              otherwise         \n",
       "⎩                                      "
      ]
     },
     "metadata": {},
     "output_type": "display_data"
    },
    {
     "data": {
      "image/png": "[encoded data removed]",
      "text/latex": [
       "$\\displaystyle P \\left(\\frac{a \\left(e^{v \\left(b + \\theta\\right)} - 1\\right)}{b + \\theta} - \\frac{a e^{b v}}{b} + \\frac{a}{b}\\right)$"
      ],
      "text/plain": [
       "  ⎛  ⎛ v⋅(b + θ)    ⎞      b⋅v    ⎞\n",
       "  ⎜a⋅⎝ℯ          - 1⎠   a⋅ℯ      a⎟\n",
       "P⋅⎜────────────────── - ────── + ─⎟\n",
       "  ⎝      b + θ            b      b⎠"
      ]
     },
     "metadata": {},
     "output_type": "display_data"
    }
   ],
   "source": [
    "demandof0tov = integrate(a*exp(b*t), (t,0,v))\n",
    "print(demandof0tov)\n",
    "display(demandof0tov)\n",
    "noofdeter =a/(b+theta)*(exp((b+theta)*v)-1) -(a*exp(b*v)/b - a/b)\n",
    "DC = noofdeter*p\n",
    "display(DC)"
   ]
  },
  {
   "cell_type": "markdown",
   "metadata": {},
   "source": [
    "Total cost"
   ]
  },
  {
   "cell_type": "code",
   "execution_count": 10,
   "metadata": {},
   "outputs": [
    {
     "name": "stdout",
     "output_type": "stream",
     "text": [
      "(K + P*(a*(exp(v*(b + theta)) - 1)/(b + theta) - a*exp(b*v)/b + a/b) + h*(a*(-exp(b*v)/theta - exp(b*v)/b)/(b + theta) - a*(-exp(b*v)*exp(theta*v)/theta - 1/b)/(b + theta)) + s*(-T**2*a/2 + T*a*v - a*v**2/2))/T\n"
     ]
    },
    {
     "data": {
      "image/png": "[encoded data removed]",
      "text/latex": [
       "$\\displaystyle \\frac{K + P \\left(\\frac{a \\left(e^{v \\left(b + \\theta\\right)} - 1\\right)}{b + \\theta} - \\frac{a e^{b v}}{b} + \\frac{a}{b}\\right) + h \\left(\\frac{a \\left(- \\frac{e^{b v}}{\\theta} - \\frac{e^{b v}}{b}\\right)}{b + \\theta} - \\frac{a \\left(- \\frac{e^{b v} e^{\\theta v}}{\\theta} - \\frac{1}{b}\\right)}{b + \\theta}\\right) + s \\left(- \\frac{T^{2} a}{2} + T a v - \\frac{a v^{2}}{2}\\right)}{T}$"
      ],
      "text/plain": [
       "                                            ⎛  ⎛   b⋅v    b⋅v⎞     ⎛   b⋅v  θ⋅\n",
       "                                            ⎜  ⎜  ℯ      ℯ   ⎟     ⎜  ℯ   ⋅ℯ  \n",
       "      ⎛  ⎛ v⋅(b + θ)    ⎞      b⋅v    ⎞     ⎜a⋅⎜- ──── - ────⎟   a⋅⎜- ────────\n",
       "      ⎜a⋅⎝ℯ          - 1⎠   a⋅ℯ      a⎟     ⎜  ⎝   θ      b  ⎠     ⎝      θ   \n",
       "K + P⋅⎜────────────────── - ────── + ─⎟ + h⋅⎜───────────────── - ─────────────\n",
       "      ⎝      b + θ            b      b⎠     ⎝      b + θ                b + θ \n",
       "──────────────────────────────────────────────────────────────────────────────\n",
       "                                                        T                     \n",
       "\n",
       "v    ⎞⎞                            \n",
       "    1⎟⎟                            \n",
       "─ - ─⎟⎟     ⎛   2                2⎞\n",
       "    b⎠⎟     ⎜  T ⋅a           a⋅v ⎟\n",
       "──────⎟ + s⋅⎜- ──── + T⋅a⋅v - ────⎟\n",
       "      ⎠     ⎝   2              2  ⎠\n",
       "───────────────────────────────────\n",
       "                                   "
      ]
     },
     "metadata": {},
     "output_type": "display_data"
    }
   ],
   "source": [
    "TC = 1/T*(HC + SC + DC + RC)\n",
    "print(TC)\n",
    "display(TC)"
   ]
  },
  {
   "cell_type": "markdown",
   "metadata": {},
   "source": [
    "- The truncated Taylor's series"
   ]
  },
  {
   "cell_type": "code",
   "execution_count": 11,
   "metadata": {},
   "outputs": [
    {
     "data": {
      "image/png": "[encoded data removed]",
      "text/latex": [
       "$\\displaystyle P a \\left(\\frac{\\frac{v^{2} \\left(b + \\theta\\right)^{2}}{2} + v \\left(b + \\theta\\right)}{b + \\theta} - \\frac{\\frac{b^{2} v^{2}}{2} + b v}{b}\\right)$"
      ],
      "text/plain": [
       "    ⎛ 2        2                2  2      ⎞\n",
       "    ⎜v ⋅(b + θ)                b ⋅v       ⎟\n",
       "    ⎜─────────── + v⋅(b + θ)   ───── + b⋅v⎟\n",
       "    ⎜     2                      2        ⎟\n",
       "P⋅a⋅⎜─────────────────────── - ───────────⎟\n",
       "    ⎝         b + θ                 b     ⎠"
      ]
     },
     "metadata": {},
     "output_type": "display_data"
    }
   ],
   "source": [
    "deterioration = p*a*(1/(b+theta)*((b+theta)*v+((b+theta)*v)**2/2)-1/b*(b*v+(b*v)**2/2))\n",
    "display(deterioration)"
   ]
  },
  {
   "cell_type": "code",
   "execution_count": 12,
   "metadata": {},
   "outputs": [
    {
     "data": {
      "image/png": "[encoded data removed]",
      "text/latex": [
       "$\\displaystyle \\frac{a h \\left(\\frac{\\left(\\frac{\\theta^{2} v^{2}}{2} + \\theta v\\right) \\left(\\frac{b^{2} v^{2}}{2} + b v + 1\\right)}{\\theta} - \\frac{\\frac{b^{2} v^{2}}{2} + b v}{b}\\right)}{b + \\theta}$"
      ],
      "text/plain": [
       "    ⎛⎛ 2  2      ⎞ ⎛ 2  2          ⎞    2  2      ⎞\n",
       "    ⎜⎜θ ⋅v       ⎟ ⎜b ⋅v           ⎟   b ⋅v       ⎟\n",
       "    ⎜⎜───── + θ⋅v⎟⋅⎜───── + b⋅v + 1⎟   ───── + b⋅v⎟\n",
       "    ⎜⎝  2        ⎠ ⎝  2            ⎠     2        ⎟\n",
       "a⋅h⋅⎜─────────────────────────────── - ───────────⎟\n",
       "    ⎝               θ                       b     ⎠\n",
       "───────────────────────────────────────────────────\n",
       "                       b + θ                       "
      ]
     },
     "metadata": {},
     "output_type": "display_data"
    },
    {
     "data": {
      "image/png": "[encoded data removed]",
      "text/latex": [
       "$\\displaystyle \\frac{a h v \\left(- 2 b v + \\left(\\theta v + 2\\right) \\left(b^{2} v^{2} + 2 b v + 2\\right) - 4\\right)}{4 \\left(b + \\theta\\right)}$"
      ],
      "text/plain": [
       "      ⎛                   ⎛ 2  2            ⎞    ⎞\n",
       "a⋅h⋅v⋅⎝-2⋅b⋅v + (θ⋅v + 2)⋅⎝b ⋅v  + 2⋅b⋅v + 2⎠ - 4⎠\n",
       "──────────────────────────────────────────────────\n",
       "                    4⋅(b + θ)                     "
      ]
     },
     "metadata": {},
     "output_type": "display_data"
    }
   ],
   "source": [
    "holding = (h*a)/(b+theta)*((1+b*v+(b*v)**2/2)*(theta*v+(theta*v)**2/2)/theta - (b*v+(b*v)**2/2)/b)\n",
    "display(holding)\n",
    "simh = simplify(holding)\n",
    "display(simh)\n",
    "#y = simplify(b*v*(2*b*v-1)+theta*v*(b**2*v**2+2*b*v+2))\n",
    "#display(y)\n",
    "#m = simplify((2*b*v-1)*(b**2*v**2+2*b*v+2))\n",
    "#display(m)"
   ]
  },
  {
   "cell_type": "markdown",
   "metadata": {},
   "source": [
    "- Total cost final"
   ]
  },
  {
   "cell_type": "code",
   "execution_count": 13,
   "metadata": {},
   "outputs": [
    {
     "data": {
      "image/png": "[encoded data removed]",
      "text/latex": [
       "$\\displaystyle \\frac{K + P a \\left(\\frac{\\frac{v^{2} \\left(b + \\theta\\right)^{2}}{2} + v \\left(b + \\theta\\right)}{b + \\theta} - \\frac{\\frac{b^{2} v^{2}}{2} + b v}{b}\\right) + \\frac{a h \\left(\\frac{\\left(\\frac{\\theta^{2} v^{2}}{2} + \\theta v\\right) \\left(\\frac{b^{2} v^{2}}{2} + b v + 1\\right)}{\\theta} - \\frac{\\frac{b^{2} v^{2}}{2} + b v}{b}\\right)}{b + \\theta} + s \\left(- \\frac{T^{2} a}{2} + T a v - \\frac{a v^{2}}{2}\\right)}{T}$"
      ],
      "text/plain": [
       "                                                      ⎛⎛ 2  2      ⎞ ⎛ 2  2   \n",
       "                                                      ⎜⎜θ ⋅v       ⎟ ⎜b ⋅v    \n",
       "        ⎛ 2        2                2  2      ⎞       ⎜⎜───── + θ⋅v⎟⋅⎜───── + \n",
       "        ⎜v ⋅(b + θ)                b ⋅v       ⎟       ⎜⎝  2        ⎠ ⎝  2     \n",
       "        ⎜─────────── + v⋅(b + θ)   ───── + b⋅v⎟   a⋅h⋅⎜───────────────────────\n",
       "        ⎜     2                      2        ⎟       ⎝               θ       \n",
       "K + P⋅a⋅⎜─────────────────────── - ───────────⎟ + ────────────────────────────\n",
       "        ⎝         b + θ                 b     ⎠                          b + θ\n",
       "──────────────────────────────────────────────────────────────────────────────\n",
       "                                                                T             \n",
       "\n",
       "       ⎞    2  2      ⎞                            \n",
       "       ⎟   b ⋅v       ⎟                            \n",
       "b⋅v + 1⎟   ───── + b⋅v⎟                            \n",
       "       ⎠     2        ⎟                            \n",
       "──────── - ───────────⎟     ⎛   2                2⎞\n",
       "                b     ⎠     ⎜  T ⋅a           a⋅v ⎟\n",
       "─────────────────────── + s⋅⎜- ──── + T⋅a⋅v - ────⎟\n",
       "                            ⎝   2              2  ⎠\n",
       "───────────────────────────────────────────────────\n",
       "                                                   "
      ]
     },
     "metadata": {},
     "output_type": "display_data"
    },
    {
     "data": {
      "image/png": "[encoded data removed]",
      "text/latex": [
       "$\\displaystyle \\frac{a \\left(2 P \\theta v^{2} \\left(b + \\theta\\right) + h v \\left(- 2 b v + \\left(\\theta v + 2\\right) \\left(b^{2} v^{2} + 2 b v + 2\\right) - 4\\right) - 2 s \\left(b + \\theta\\right) \\left(T^{2} - 2 T v + v^{2}\\right)\\right)}{4 T \\left(b + \\theta\\right)}$"
      ],
      "text/plain": [
       "  ⎛       2               ⎛                   ⎛ 2  2            ⎞    ⎞        \n",
       "a⋅⎝2⋅P⋅θ⋅v ⋅(b + θ) + h⋅v⋅⎝-2⋅b⋅v + (θ⋅v + 2)⋅⎝b ⋅v  + 2⋅b⋅v + 2⎠ - 4⎠ - 2⋅s⋅(\n",
       "──────────────────────────────────────────────────────────────────────────────\n",
       "                                              4⋅T⋅(b + θ)                     \n",
       "\n",
       "       ⎛ 2            2⎞⎞\n",
       "b + θ)⋅⎝T  - 2⋅T⋅v + v ⎠⎠\n",
       "─────────────────────────\n",
       "                         "
      ]
     },
     "metadata": {},
     "output_type": "display_data"
    }
   ],
   "source": [
    "TC1 = 1/T*(RC + SC + deterioration + holding)\n",
    "display(TC1)\n",
    "x = 1/T*(SC+deterioration+holding)\n",
    "simx = simplify(x)\n",
    "display(simx)"
   ]
  },
  {
   "cell_type": "markdown",
   "metadata": {},
   "source": [
    "- Diff Total cost"
   ]
  },
  {
   "cell_type": "code",
   "execution_count": 14,
   "metadata": {},
   "outputs": [
    {
     "data": {
      "image/png": "[encoded data removed]",
      "text/latex": [
       "$\\displaystyle \\frac{K}{T} + \\frac{T a s}{2} - a s v + \\frac{a v^{2} \\left(P \\theta + h + s\\right)}{2 T}$"
      ],
      "text/plain": [
       "                       2              \n",
       "K   T⋅a⋅s           a⋅v ⋅(P⋅θ + h + s)\n",
       "─ + ───── - a⋅s⋅v + ──────────────────\n",
       "T     2                    2⋅T        "
      ]
     },
     "metadata": {},
     "output_type": "display_data"
    },
    {
     "data": {
      "image/png": "[encoded data removed]",
      "text/latex": [
       "$\\displaystyle - \\frac{K}{T^{2}} - \\frac{a s^{2}}{2 \\left(P \\theta + h + s\\right)} + \\frac{a s}{2}$"
      ],
      "text/plain": [
       "                2           \n",
       "  K          a⋅s         a⋅s\n",
       "- ── - ─────────────── + ───\n",
       "   2   2⋅(P⋅θ + h + s)    2 \n",
       "  T                         "
      ]
     },
     "metadata": {},
     "output_type": "display_data"
    },
    {
     "name": "stdout",
     "output_type": "stream",
     "text": [
      "-K/T**2 - a*s**2/(2*(P*theta + h + s)) + a*s/2\n"
     ]
    },
    {
     "data": {
      "image/png": "[encoded data removed]",
      "text/latex": [
       "$\\displaystyle - \\frac{K}{T^{2}} + \\frac{a s}{2} - \\frac{a v^{2} \\left(P \\theta + h + s\\right)}{2 T^{2}}$"
      ],
      "text/plain": [
       "                2              \n",
       "  K    a⋅s   a⋅v ⋅(P⋅θ + h + s)\n",
       "- ── + ─── - ──────────────────\n",
       "   2    2              2       \n",
       "  T                 2⋅T        "
      ]
     },
     "metadata": {},
     "output_type": "display_data"
    }
   ],
   "source": [
    "simTC = a*v**2*(h+theta*p+s)/(2*T) + (s*a*T)/2 - s*a*v + K/T\n",
    "display(simTC)\n",
    "#หา v ออกมา แทนค่ากลับ\n",
    "m = s/(p*theta+h+s)\n",
    "diffTCT = diff(a*(m*T)**2*(h+theta*p+s)/(2*T) + (s*a*T)/2 - s*a*(m*T) + K/T, T)\n",
    "display(diffTCT)\n",
    "print(diffTCT)\n",
    "diffTC1T = diff(simTC,T)\n",
    "display(diffTC1T)"
   ]
  },
  {
   "cell_type": "code",
   "execution_count": 15,
   "metadata": {},
   "outputs": [
    {
     "data": {
      "image/png": "[encoded data removed]",
      "text/latex": [
       "$\\displaystyle \\frac{2 K}{T^{3}} + \\frac{a v^{2} \\left(P \\theta + h + s\\right)}{T^{3}}$"
      ],
      "text/plain": [
       "         2              \n",
       "2⋅K   a⋅v ⋅(P⋅θ + h + s)\n",
       "─── + ──────────────────\n",
       "  3            3        \n",
       " T            T         "
      ]
     },
     "metadata": {},
     "output_type": "display_data"
    }
   ],
   "source": [
    "diffTCT2 = diff(diffTC1T,T)\n",
    "display(diffTCT2)"
   ]
  },
  {
   "cell_type": "code",
   "execution_count": 16,
   "metadata": {},
   "outputs": [
    {
     "data": {
      "image/png": "[encoded data removed]",
      "text/latex": [
       "$\\displaystyle - a s + \\frac{a v \\left(P \\theta + h + s\\right)}{T}$"
      ],
      "text/plain": [
       "       a⋅v⋅(P⋅θ + h + s)\n",
       "-a⋅s + ─────────────────\n",
       "               T        "
      ]
     },
     "metadata": {},
     "output_type": "display_data"
    },
    {
     "name": "stdout",
     "output_type": "stream",
     "text": [
      "-a*s + a*v*(P*theta + h + s)/T\n"
     ]
    }
   ],
   "source": [
    "diffTCv = diff(simTC, v)\n",
    "display(diffTCv)\n",
    "print(diffTCv)"
   ]
  },
  {
   "cell_type": "code",
   "execution_count": 17,
   "metadata": {},
   "outputs": [
    {
     "data": {
      "image/png": "[encoded data removed]",
      "text/latex": [
       "$\\displaystyle \\frac{a \\left(P \\theta + h + s\\right)}{T}$"
      ],
      "text/plain": [
       "a⋅(P⋅θ + h + s)\n",
       "───────────────\n",
       "       T       "
      ]
     },
     "metadata": {},
     "output_type": "display_data"
    }
   ],
   "source": [
    "diffTCv2 = diff(diffTCv,v)\n",
    "display(diffTCv2)"
   ]
  },
  {
   "cell_type": "markdown",
   "metadata": {},
   "source": [
    "- diff v and then diff T"
   ]
  },
  {
   "cell_type": "code",
   "execution_count": 18,
   "metadata": {},
   "outputs": [
    {
     "data": {
      "image/png": "[encoded data removed]",
      "text/latex": [
       "$\\displaystyle - \\frac{a v \\left(P \\theta + h + s\\right)}{T^{2}}$"
      ],
      "text/plain": [
       "-a⋅v⋅(P⋅θ + h + s) \n",
       "───────────────────\n",
       "          2        \n",
       "         T         "
      ]
     },
     "metadata": {},
     "output_type": "display_data"
    }
   ],
   "source": [
    "diffTCvT = diff(diffTC1T, v)\n",
    "display(diffTCvT)"
   ]
  },
  {
   "cell_type": "markdown",
   "metadata": {},
   "source": [
    "- Multiple diff"
   ]
  },
  {
   "cell_type": "code",
   "execution_count": 19,
   "metadata": {},
   "outputs": [
    {
     "data": {
      "image/png": "[encoded data removed]",
      "text/latex": [
       "$\\displaystyle \\frac{a \\left(\\frac{2 K}{T^{3}} + \\frac{a v^{2} \\left(P \\theta + h + s\\right)}{T^{3}}\\right) \\left(P \\theta + h + s\\right)}{T} - \\frac{a^{2} v^{2} \\left(P \\theta + h + s\\right)^{2}}{T^{4}}$"
      ],
      "text/plain": [
       "  ⎛         2              ⎞                                     \n",
       "  ⎜2⋅K   a⋅v ⋅(P⋅θ + h + s)⎟                                     \n",
       "a⋅⎜─── + ──────────────────⎟⋅(P⋅θ + h + s)                       \n",
       "  ⎜  3            3        ⎟                  2  2              2\n",
       "  ⎝ T            T         ⎠                 a ⋅v ⋅(P⋅θ + h + s) \n",
       "────────────────────────────────────────── - ────────────────────\n",
       "                    T                                  4         \n",
       "                                                      T          "
      ]
     },
     "metadata": {},
     "output_type": "display_data"
    },
    {
     "data": {
      "image/png": "[encoded data removed]",
      "text/latex": [
       "$\\displaystyle \\frac{2 K a \\left(P \\theta + h + s\\right)}{T^{4}}$"
      ],
      "text/plain": [
       "2⋅K⋅a⋅(P⋅θ + h + s)\n",
       "───────────────────\n",
       "          4        \n",
       "         T         "
      ]
     },
     "metadata": {},
     "output_type": "display_data"
    }
   ],
   "source": [
    "x = diffTCT2*diffTCv2-diffTCvT**2\n",
    "display(x)\n",
    "simx = simplify(x)\n",
    "display(simx)"
   ]
  },
  {
   "cell_type": "markdown",
   "metadata": {},
   "source": [
    "- solve for T and v"
   ]
  },
  {
   "cell_type": "code",
   "execution_count": 20,
   "metadata": {},
   "outputs": [
    {
     "data": {
      "image/png": "[encoded data removed]",
      "text/latex": [
       "$\\displaystyle - \\frac{K}{T^{2}} - \\frac{a s^{2}}{2 \\left(P \\theta + h + s\\right)} + \\frac{a s}{2}$"
      ],
      "text/plain": [
       "                2           \n",
       "  K          a⋅s         a⋅s\n",
       "- ── - ─────────────── + ───\n",
       "   2   2⋅(P⋅θ + h + s)    2 \n",
       "  T                         "
      ]
     },
     "metadata": {},
     "output_type": "display_data"
    },
    {
     "data": {
      "image/png": "[encoded data removed]",
      "text/latex": [
       "$\\displaystyle \\left[ - \\sqrt{2} \\sqrt{\\frac{K \\left(P \\theta + h + s\\right)}{a s \\left(P \\theta + h\\right)}}, \\  \\sqrt{2} \\sqrt{\\frac{K \\left(P \\theta + h + s\\right)}{a s \\left(P \\theta + h\\right)}}\\right]$"
      ],
      "text/plain": [
       "⎡        _________________         _________________⎤\n",
       "⎢       ╱ K⋅(P⋅θ + h + s)         ╱ K⋅(P⋅θ + h + s) ⎥\n",
       "⎢-√2⋅  ╱  ─────────────── , √2⋅  ╱  ─────────────── ⎥\n",
       "⎣    ╲╱    a⋅s⋅(P⋅θ + h)       ╲╱    a⋅s⋅(P⋅θ + h)  ⎦"
      ]
     },
     "metadata": {},
     "output_type": "display_data"
    },
    {
     "name": "stdout",
     "output_type": "stream",
     "text": [
      "[-sqrt(2)*sqrt(K*(P*theta + h + s)/(a*s*(P*theta + h))), sqrt(2)*sqrt(K*(P*theta + h + s)/(a*s*(P*theta + h)))]\n"
     ]
    }
   ],
   "source": [
    "#เอาสมการที่แทน v จากที่ solve ได้มาคิดหา T\n",
    "display(diffTCT)\n",
    "solT = solve(diffTCT, T)\n",
    "display(solT)\n",
    "print(solT)\n"
   ]
  },
  {
   "cell_type": "code",
   "execution_count": 21,
   "metadata": {},
   "outputs": [
    {
     "data": {
      "image/png": "[encoded data removed]",
      "text/latex": [
       "$\\displaystyle \\left[ \\frac{T s}{P \\theta + h + s}\\right]$"
      ],
      "text/plain": [
       "⎡    T⋅s    ⎤\n",
       "⎢───────────⎥\n",
       "⎣P⋅θ + h + s⎦"
      ]
     },
     "metadata": {},
     "output_type": "display_data"
    }
   ],
   "source": [
    "solv = solve(diffTCv, v)\n",
    "display(solv)"
   ]
  },
  {
   "cell_type": "code",
   "execution_count": 22,
   "metadata": {},
   "outputs": [
    {
     "data": {
      "image/png": "[encoded data removed]",
      "text/latex": [
       "$\\displaystyle \\frac{s}{P \\theta + h + s}$"
      ],
      "text/plain": [
       "     s     \n",
       "───────────\n",
       "P⋅θ + h + s"
      ]
     },
     "metadata": {},
     "output_type": "display_data"
    }
   ],
   "source": [
    "dTbydv1 = idiff((h+theta*p+s)*v-s*T, v, T)\n",
    "display(dTbydv1)"
   ]
  },
  {
   "cell_type": "code",
   "execution_count": 23,
   "metadata": {},
   "outputs": [
    {
     "data": {
      "image/png": "[encoded data removed]",
      "text/latex": [
       "$\\displaystyle \\frac{T s}{v \\left(P \\theta + h + s\\right)}$"
      ],
      "text/plain": [
       "      T⋅s      \n",
       "───────────────\n",
       "v⋅(P⋅θ + h + s)"
      ]
     },
     "metadata": {},
     "output_type": "display_data"
    }
   ],
   "source": [
    "dTbydv =idiff(a*(h+theta*p+s)*v**2-a*s*T**2+2*K, v, T)\n",
    "display(dTbydv)"
   ]
  },
  {
   "cell_type": "markdown",
   "metadata": {},
   "source": [
    "- Multiply"
   ]
  },
  {
   "cell_type": "code",
   "execution_count": 25,
   "metadata": {},
   "outputs": [
    {
     "data": {
      "image/png": "[encoded data removed]",
      "text/latex": [
       "$\\displaystyle \\frac{a \\left(\\frac{2 K}{T^{3}} + \\frac{a v^{2} \\left(P \\theta + h + s\\right)}{T^{3}}\\right) \\left(P \\theta + h + s\\right)}{T} - \\frac{a^{2} v^{2} \\left(P \\theta + h + s\\right)^{2}}{T^{4}}$"
      ],
      "text/plain": [
       "  ⎛         2              ⎞                                     \n",
       "  ⎜2⋅K   a⋅v ⋅(P⋅θ + h + s)⎟                                     \n",
       "a⋅⎜─── + ──────────────────⎟⋅(P⋅θ + h + s)                       \n",
       "  ⎜  3            3        ⎟                  2  2              2\n",
       "  ⎝ T            T         ⎠                 a ⋅v ⋅(P⋅θ + h + s) \n",
       "────────────────────────────────────────── - ────────────────────\n",
       "                    T                                  4         \n",
       "                                                      T          "
      ]
     },
     "metadata": {},
     "output_type": "display_data"
    },
    {
     "data": {
      "image/png": "[encoded data removed]",
      "text/latex": [
       "$\\displaystyle \\frac{2 K a \\left(P \\theta + h + s\\right)}{T^{4}}$"
      ],
      "text/plain": [
       "2⋅K⋅a⋅(P⋅θ + h + s)\n",
       "───────────────────\n",
       "          4        \n",
       "         T         "
      ]
     },
     "metadata": {},
     "output_type": "display_data"
    }
   ],
   "source": [
    "x = (diffTCv2*diffTCT2)-(diffTCvT)**2\n",
    "display(x)\n",
    "simx = simplify(x)\n",
    "display(simx)"
   ]
  }
 ],
 "metadata": {
  "interpreter": {
   "hash": "aee8b7b246df8f9039afb4144a1f6fd8d2ca17a180786b69acc140d282b71a49"
  },
  "kernelspec": {
   "display_name": "Python 3.9.4 64-bit",
   "language": "python",
   "name": "python3"
  },
  "language_info": {
   "codemirror_mode": {
    "name": "ipython",
    "version": 3
   },
   "file_extension": ".py",
   "mimetype": "text/x-python",
   "name": "python",
   "nbconvert_exporter": "python",
   "pygments_lexer": "ipython3",
   "version": "3.9.4"
  },
  "orig_nbformat": 4
 },
 "nbformat": 4,
 "nbformat_minor": 2
}
